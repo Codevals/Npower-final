{
 "cells": [
  {
   "cell_type": "code",
   "execution_count": 7,
   "id": "6d0bdd11",
   "metadata": {},
   "outputs": [],
   "source": [
    "# Your code here\n",
    "import pandas as pd\n",
    "import requests\n",
    "from bs4 import BeautifulSoup "
   ]
  },
  {
   "cell_type": "code",
   "execution_count": 10,
   "id": "43d22927",
   "metadata": {},
   "outputs": [
    {
     "data": {
      "text/html": [
       "<div>\n",
       "<style scoped>\n",
       "    .dataframe tbody tr th:only-of-type {\n",
       "        vertical-align: middle;\n",
       "    }\n",
       "\n",
       "    .dataframe tbody tr th {\n",
       "        vertical-align: top;\n",
       "    }\n",
       "\n",
       "    .dataframe thead th {\n",
       "        text-align: right;\n",
       "    }\n",
       "</style>\n",
       "<table border=\"1\" class=\"dataframe\">\n",
       "  <thead>\n",
       "    <tr style=\"text-align: right;\">\n",
       "      <th></th>\n",
       "      <th>Language</th>\n",
       "      <th>Average Annual Salary</th>\n",
       "    </tr>\n",
       "  </thead>\n",
       "  <tbody>\n",
       "    <tr>\n",
       "      <th>0</th>\n",
       "      <td>Language</td>\n",
       "      <td>Average Annual Salary</td>\n",
       "    </tr>\n",
       "    <tr>\n",
       "      <th>1</th>\n",
       "      <td>Python</td>\n",
       "      <td>$114,383</td>\n",
       "    </tr>\n",
       "    <tr>\n",
       "      <th>2</th>\n",
       "      <td>Java</td>\n",
       "      <td>$101,013</td>\n",
       "    </tr>\n",
       "    <tr>\n",
       "      <th>3</th>\n",
       "      <td>R</td>\n",
       "      <td>$92,037</td>\n",
       "    </tr>\n",
       "    <tr>\n",
       "      <th>4</th>\n",
       "      <td>Javascript</td>\n",
       "      <td>$110,981</td>\n",
       "    </tr>\n",
       "  </tbody>\n",
       "</table>\n",
       "</div>"
      ],
      "text/plain": [
       "     Language  Average Annual Salary\n",
       "0    Language  Average Annual Salary\n",
       "1      Python               $114,383\n",
       "2        Java               $101,013\n",
       "3           R                $92,037\n",
       "4  Javascript               $110,981"
      ]
     },
     "execution_count": 10,
     "metadata": {},
     "output_type": "execute_result"
    }
   ],
   "source": [
    "#this url contains the data you need to scrape\n",
    "url = \"https://cf-courses-data.s3.us.cloud-object-storage.appdomain.cloud/IBM-DA0321EN-SkillsNetwork/labs/datasets/Programming_Languages.html\"\n",
    "#your code goes here\n",
    "data = requests.get(url).text\n",
    "#your code goes here\n",
    "soup = BeautifulSoup(data, 'html5lib')\n",
    "#your code goes here\n",
    "pop_languages_data = pd.DataFrame(columns=[\"Language\", \"Average Annual Salary\"])\n",
    "for row in soup.find(\"tbody\").find_all(\"tr\"):\n",
    "    col = row.find_all(\"td\")\n",
    "    language=col[1].text\n",
    "    salary=col[3].text\n",
    "    #df1=pd.DataFrame({\"Language\":[language], \"Average Annual Salary\":[salary]})\n",
    "    #pop_languages_data = pd.concat([pop_languages_data, df1], ignore_index=True)\n",
    "    pop_languages_data = pop_languages_data.append({\"Language\": language, \"Average Annual Salary\": salary}, ignore_index=True)\n",
    "pop_languages_data.head()"
   ]
  },
  {
   "cell_type": "code",
   "execution_count": 11,
   "id": "40322061",
   "metadata": {},
   "outputs": [],
   "source": [
    "nom_fichier = 'popular-languages.csv'\n",
    "pop_languages_data.to_csv(nom_fichier, index=False)"
   ]
  },
  {
   "cell_type": "code",
   "execution_count": null,
   "id": "f7258841",
   "metadata": {},
   "outputs": [],
   "source": []
  }
 ],
 "metadata": {
  "kernelspec": {
   "display_name": "Python 3 (ipykernel)",
   "language": "python",
   "name": "python3"
  },
  "language_info": {
   "codemirror_mode": {
    "name": "ipython",
    "version": 3
   },
   "file_extension": ".py",
   "mimetype": "text/x-python",
   "name": "python",
   "nbconvert_exporter": "python",
   "pygments_lexer": "ipython3",
   "version": "3.9.19"
  }
 },
 "nbformat": 4,
 "nbformat_minor": 5
}
